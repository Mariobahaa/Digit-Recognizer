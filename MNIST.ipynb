{
  "nbformat": 4,
  "nbformat_minor": 0,
  "metadata": {
    "colab": {
      "name": "MNIST.ipynb",
      "provenance": [],
      "toc_visible": true,
      "authorship_tag": "ABX9TyPnwJv8tbcmYcMaP2Gde7Lw",
      "include_colab_link": true
    },
    "kernelspec": {
      "name": "python3",
      "display_name": "Python 3"
    },
    "accelerator": "GPU"
  },
  "cells": [
    {
      "cell_type": "markdown",
      "metadata": {
        "id": "view-in-github",
        "colab_type": "text"
      },
      "source": [
        "<a href=\"https://colab.research.google.com/github/Mariobahaa/Digit-Recognizer/blob/master/MNIST.ipynb\" target=\"_parent\"><img src=\"https://colab.research.google.com/assets/colab-badge.svg\" alt=\"Open In Colab\"/></a>"
      ]
    },
    {
      "cell_type": "code",
      "metadata": {
        "id": "ENltvszwy2-2",
        "colab_type": "code",
        "colab": {}
      },
      "source": [
        " ! pip install -q kaggle\n",
        " "
      ],
      "execution_count": 0,
      "outputs": []
    },
    {
      "cell_type": "code",
      "metadata": {
        "id": "7ita4gXOzvts",
        "colab_type": "code",
        "outputId": "cb1132a0-e2b2-4890-b459-1c30291e7ecc",
        "colab": {
          "resources": {
            "http://localhost:8080/nbextensions/google.colab/files.js": {
              "data": "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",
              "ok": true,
              "headers": [
                [
                  "content-type",
                  "application/javascript"
                ]
              ],
              "status": 200,
              "status_text": ""
            }
          },
          "base_uri": "https://localhost:8080/",
          "height": 92
        }
      },
      "source": [
        "from google.colab import files\n",
        "\n",
        "files.upload()"
      ],
      "execution_count": 0,
      "outputs": [
        {
          "output_type": "display_data",
          "data": {
            "text/html": [
              "\n",
              "     <input type=\"file\" id=\"files-e8808266-3731-4787-a96b-788f5fdbea82\" name=\"files[]\" multiple disabled />\n",
              "     <output id=\"result-e8808266-3731-4787-a96b-788f5fdbea82\">\n",
              "      Upload widget is only available when the cell has been executed in the\n",
              "      current browser session. Please rerun this cell to enable.\n",
              "      </output>\n",
              "      <script src=\"/nbextensions/google.colab/files.js\"></script> "
            ],
            "text/plain": [
              "<IPython.core.display.HTML object>"
            ]
          },
          "metadata": {
            "tags": []
          }
        },
        {
          "output_type": "stream",
          "text": [
            "Saving kaggle.json to kaggle.json\n"
          ],
          "name": "stdout"
        },
        {
          "output_type": "execute_result",
          "data": {
            "text/plain": [
              "{'kaggle.json': b'{\"username\":\"mariobahaa\",\"key\":\"bc2430a5175201654c29c170e1c60a6f\"}'}"
            ]
          },
          "metadata": {
            "tags": []
          },
          "execution_count": 2
        }
      ]
    },
    {
      "cell_type": "code",
      "metadata": {
        "id": "-sKQe1P90XJg",
        "colab_type": "code",
        "colab": {}
      },
      "source": [
        "! mkdir ~/.kaggle\n",
        "\n",
        "! cp kaggle.json ~/.kaggle/"
      ],
      "execution_count": 0,
      "outputs": []
    },
    {
      "cell_type": "code",
      "metadata": {
        "id": "ocXIuYWt0aLX",
        "colab_type": "code",
        "colab": {}
      },
      "source": [
        " ! chmod 600 ~/.kaggle/kaggle.json"
      ],
      "execution_count": 0,
      "outputs": []
    },
    {
      "cell_type": "code",
      "metadata": {
        "id": "O-utP6bX0ezR",
        "colab_type": "code",
        "outputId": "bd0f2b2c-1935-49d2-db10-5131130a7efe",
        "colab": {
          "base_uri": "https://localhost:8080/",
          "height": 435
        }
      },
      "source": [
        " ! kaggle datasets list\n",
        " "
      ],
      "execution_count": 0,
      "outputs": [
        {
          "output_type": "stream",
          "text": [
            "Warning: Looks like you're using an outdated API Version, please consider updating (server 1.5.6 / client 1.5.4)\n",
            "ref                                          title                                size  lastUpdated          downloadCount  \n",
            "-------------------------------------------  ----------------------------------  -----  -------------------  -------------  \n",
            "chrisfilo/to-bee-or-no-to-bee                To bee or not to bee                  3GB  2020-02-04 22:55:31             41  \n",
            "peijenlin/msl-m-rems-2-edr-v1.0              MSL-M-REMS-2-EDR-V1.0                11GB  2020-02-05 00:55:52              3  \n",
            "prondeau/350000-jeopardy-questions           350,000+ Jeopardy Questions          19MB  2020-02-04 18:53:30             45  \n",
            "prondeau/superbowlads                        Super Bowl Ads                       36KB  2020-02-04 18:04:07             91  \n",
            "timoboz/can-james-bond-be-black              Can James Bond Be Black?             345B  2020-02-04 19:08:57             12  \n",
            "devvret/farm-ads-binary-classification       Farm Ads Binary Classification        5MB  2020-02-04 19:12:44             11  \n",
            "fmejia21/nba-all-star-game-20002016          NBA All Star Game 2000-2016          35KB  2020-02-04 19:21:13             80  \n",
            "timoboz/wikidata-jsons                       Wikidata jsons                      858MB  2020-02-04 19:19:08              4  \n",
            "chrisfilo/firesense                          FIRESENSE                           784MB  2020-02-04 19:20:54             15  \n",
            "prondeau/the-car-connection-picture-dataset  60,000+ Images of Cars              682MB  2020-02-04 19:19:07             21  \n",
            "fmejia21/trump-impeachment-polls             Trump Impeachment Polls             110KB  2020-02-04 19:29:05             49  \n",
            "chrisfilo/demand                             DEMAND                                7GB  2020-02-04 19:41:36              4  \n",
            "timoboz/data-science-cheat-sheets            Data Science Cheat Sheets           596MB  2020-02-04 19:42:27            153  \n",
            "jackywang529/bixi-montreal-bikeshare-data    Bixi Montreal Bikeshare Data        189MB  2020-02-04 19:41:48              8  \n",
            "jackywang529/toronto-bikeshare-data          Toronto Bikeshare Data               58MB  2020-02-04 19:21:42             33  \n",
            "jackywangkaggle/hard-drive-data-and-stats    Hard Drive Data and Stats             2GB  2020-02-04 19:32:29             14  \n",
            "devvret/brazil-real-estate-listings          Brazil Real Estate Listings         225MB  2020-02-04 20:02:23             21  \n",
            "timoboz/tesla-stock-data-from-2010-to-2020   Tesla stock data from 2010 to 2020   46KB  2020-02-04 17:15:32            127  \n",
            "devvret/congressional-voting-records         Congressional Voting Records          5KB  2020-02-04 21:33:27             20  \n",
            "chrisfilo/fruit-recognition                  Fruit Recognition                     8GB  2020-02-04 18:52:00             20  \n"
          ],
          "name": "stdout"
        }
      ]
    },
    {
      "cell_type": "code",
      "metadata": {
        "id": "DRNrdAXsydLf",
        "colab_type": "code",
        "outputId": "b29d8089-e0d7-431c-f640-1b77817d441d",
        "colab": {
          "base_uri": "https://localhost:8080/",
          "height": 210
        }
      },
      "source": [
        "#Dataset Command\n",
        "!kaggle competitions download -c digit-recognizer"
      ],
      "execution_count": 0,
      "outputs": [
        {
          "output_type": "stream",
          "text": [
            "Warning: Looks like you're using an outdated API Version, please consider updating (server 1.5.6 / client 1.5.4)\n",
            "Downloading sample_submission.csv to /content\n",
            "  0% 0.00/235k [00:00<?, ?B/s]\n",
            "100% 235k/235k [00:00<00:00, 86.5MB/s]\n",
            "Downloading train.csv.zip to /content\n",
            "  0% 0.00/9.16M [00:00<?, ?B/s]\n",
            "100% 9.16M/9.16M [00:00<00:00, 83.9MB/s]\n",
            "Downloading test.csv.zip to /content\n",
            "  0% 0.00/6.09M [00:00<?, ?B/s]\n",
            "100% 6.09M/6.09M [00:00<00:00, 55.7MB/s]\n"
          ],
          "name": "stdout"
        }
      ]
    },
    {
      "cell_type": "code",
      "metadata": {
        "id": "v6D55MQt06yZ",
        "colab_type": "code",
        "outputId": "7c8c00cd-39b0-4dce-bb17-a09f1dd618a7",
        "colab": {
          "base_uri": "https://localhost:8080/",
          "height": 52
        }
      },
      "source": [
        "! mkdir train\n",
        "! unzip train.csv.zip -d train"
      ],
      "execution_count": 0,
      "outputs": [
        {
          "output_type": "stream",
          "text": [
            "Archive:  train.csv.zip\n",
            "  inflating: train/train.csv         \n"
          ],
          "name": "stdout"
        }
      ]
    },
    {
      "cell_type": "code",
      "metadata": {
        "id": "M664GKc31YeP",
        "colab_type": "code",
        "outputId": "1eaf32c6-73ff-4451-c2cf-239074f85bdc",
        "colab": {
          "base_uri": "https://localhost:8080/",
          "height": 52
        }
      },
      "source": [
        "! mkdir test\n",
        "! unzip test.csv.zip -d test"
      ],
      "execution_count": 0,
      "outputs": [
        {
          "output_type": "stream",
          "text": [
            "Archive:  test.csv.zip\n",
            "  inflating: test/test.csv           \n"
          ],
          "name": "stdout"
        }
      ]
    },
    {
      "cell_type": "markdown",
      "metadata": {
        "id": "HbCJyIE21iFR",
        "colab_type": "text"
      },
      "source": [
        "# Code Here !\n"
      ]
    },
    {
      "cell_type": "code",
      "metadata": {
        "id": "9_H_BYHf3EK6",
        "colab_type": "code",
        "outputId": "c7255582-e1e6-487a-fd1b-60a236603ca1",
        "colab": {
          "base_uri": "https://localhost:8080/",
          "height": 106
        }
      },
      "source": [
        "!pip install scikit_learn"
      ],
      "execution_count": 0,
      "outputs": [
        {
          "output_type": "stream",
          "text": [
            "Requirement already satisfied: scikit_learn in /usr/local/lib/python3.6/dist-packages (0.22.1)\n",
            "Requirement already satisfied: numpy>=1.11.0 in /usr/local/lib/python3.6/dist-packages (from scikit_learn) (1.17.5)\n",
            "Requirement already satisfied: scipy>=0.17.0 in /usr/local/lib/python3.6/dist-packages (from scikit_learn) (1.4.1)\n",
            "Requirement already satisfied: joblib>=0.11 in /usr/local/lib/python3.6/dist-packages (from scikit_learn) (0.14.1)\n"
          ],
          "name": "stdout"
        }
      ]
    },
    {
      "cell_type": "code",
      "metadata": {
        "id": "lEvdWQFz1hKa",
        "colab_type": "code",
        "outputId": "ad76e839-6ce7-480d-f294-f6ee6e921a16",
        "colab": {
          "base_uri": "https://localhost:8080/",
          "height": 98
        }
      },
      "source": [
        "import pandas as pd\n",
        "import tensorflow\n",
        "import keras\n",
        "import numpy as np\n",
        "import sklearn\n"
      ],
      "execution_count": 0,
      "outputs": [
        {
          "output_type": "display_data",
          "data": {
            "text/html": [
              "<p style=\"color: red;\">\n",
              "The default version of TensorFlow in Colab will soon switch to TensorFlow 2.x.<br>\n",
              "We recommend you <a href=\"https://www.tensorflow.org/guide/migrate\" target=\"_blank\">upgrade</a> now \n",
              "or ensure your notebook will continue to use TensorFlow 1.x via the <code>%tensorflow_version 1.x</code> magic:\n",
              "<a href=\"https://colab.research.google.com/notebooks/tensorflow_version.ipynb\" target=\"_blank\">more info</a>.</p>\n"
            ],
            "text/plain": [
              "<IPython.core.display.HTML object>"
            ]
          },
          "metadata": {
            "tags": []
          }
        },
        {
          "output_type": "stream",
          "text": [
            "Using TensorFlow backend.\n"
          ],
          "name": "stderr"
        }
      ]
    },
    {
      "cell_type": "code",
      "metadata": {
        "id": "_t46Kmm33SX3",
        "colab_type": "code",
        "outputId": "002d2e8c-c808-44f3-914e-b2f608ff762e",
        "colab": {
          "base_uri": "https://localhost:8080/",
          "height": 34
        }
      },
      "source": [
        "train = pd.read_csv(\"train/train.csv\") \n",
        "test  = pd.read_csv(\"test/test.csv\")\n",
        "\n",
        "X = train.iloc[:,1:]\n",
        "label = train.iloc[:,0]\n",
        "X = np.array(X)\n",
        "\n",
        "#print(X[:,0].size)\n",
        "X = X.reshape(X[:,0].size,28,28,1)\n",
        "\n",
        "# print(X.shape)\n",
        "print(label.shape)\n",
        "\n",
        "y = np.zeros([label.size,10])\n",
        "for i in range(0,label.size):\n",
        "  y[i,label[i]] = 1\n",
        "\n",
        "\n"
      ],
      "execution_count": 0,
      "outputs": [
        {
          "output_type": "stream",
          "text": [
            "(42000,)\n"
          ],
          "name": "stdout"
        }
      ]
    },
    {
      "cell_type": "code",
      "metadata": {
        "id": "NF7oRWAY_WVi",
        "colab_type": "code",
        "outputId": "98da0be9-7a7c-4771-b90e-c1d795a03400",
        "colab": {
          "base_uri": "https://localhost:8080/",
          "height": 1000
        }
      },
      "source": [
        "from keras.models import Sequential\n",
        "from keras.layers import Dense, Activation, Conv2D, MaxPooling2D,  Dropout, Flatten\n",
        "from keras.callbacks import ModelCheckpoint\n",
        "\n",
        "\n",
        "model = Sequential()\n",
        "model.add(Conv2D(16,3, padding= 'same', activation='relu', input_shape=(28,28,1)))\n",
        "model.add(MaxPooling2D(2))\n",
        "model.add(Dropout(0.2))\n",
        "model.add(Conv2D(32,3,padding= 'same', activation='relu'))\n",
        "model.add(MaxPooling2D(2))\n",
        "model.add(Dropout(0.2))\n",
        "model.add(Flatten())\n",
        "model.add(Dense(32,activation = 'relu'))\n",
        "model.add(Dropout(0.2))\n",
        "model.add(Dense(10,activation = 'softmax'))\n",
        "\n",
        "model.compile(loss='categorical_crossentropy',\n",
        "              optimizer= 'adam',\n",
        "              metrics=['categorical_accuracy'])\n",
        "\n",
        "checkpointer = ModelCheckpoint(filepath = 'MNIST1.weights.best.hdf5', verbose=1, save_best_only = True)\n",
        "\n",
        "model.summary()\n",
        "model.fit(X,y,epochs=10,verbose=1,callbacks=[checkpointer], shuffle= True, validation_split=0.3, batch_size= 64)\n",
        "\n",
        "model.save('MNIST1.h5')\n"
      ],
      "execution_count": 0,
      "outputs": [
        {
          "output_type": "stream",
          "text": [
            "WARNING:tensorflow:From /usr/local/lib/python3.6/dist-packages/keras/backend/tensorflow_backend.py:66: The name tf.get_default_graph is deprecated. Please use tf.compat.v1.get_default_graph instead.\n",
            "\n",
            "WARNING:tensorflow:From /usr/local/lib/python3.6/dist-packages/keras/backend/tensorflow_backend.py:541: The name tf.placeholder is deprecated. Please use tf.compat.v1.placeholder instead.\n",
            "\n",
            "WARNING:tensorflow:From /usr/local/lib/python3.6/dist-packages/keras/backend/tensorflow_backend.py:4432: The name tf.random_uniform is deprecated. Please use tf.random.uniform instead.\n",
            "\n",
            "WARNING:tensorflow:From /usr/local/lib/python3.6/dist-packages/keras/backend/tensorflow_backend.py:4267: The name tf.nn.max_pool is deprecated. Please use tf.nn.max_pool2d instead.\n",
            "\n",
            "WARNING:tensorflow:From /usr/local/lib/python3.6/dist-packages/keras/backend/tensorflow_backend.py:148: The name tf.placeholder_with_default is deprecated. Please use tf.compat.v1.placeholder_with_default instead.\n",
            "\n",
            "WARNING:tensorflow:From /usr/local/lib/python3.6/dist-packages/keras/backend/tensorflow_backend.py:3733: calling dropout (from tensorflow.python.ops.nn_ops) with keep_prob is deprecated and will be removed in a future version.\n",
            "Instructions for updating:\n",
            "Please use `rate` instead of `keep_prob`. Rate should be set to `rate = 1 - keep_prob`.\n",
            "WARNING:tensorflow:From /usr/local/lib/python3.6/dist-packages/keras/optimizers.py:793: The name tf.train.Optimizer is deprecated. Please use tf.compat.v1.train.Optimizer instead.\n",
            "\n",
            "WARNING:tensorflow:From /usr/local/lib/python3.6/dist-packages/keras/backend/tensorflow_backend.py:3576: The name tf.log is deprecated. Please use tf.math.log instead.\n",
            "\n",
            "Model: \"sequential_1\"\n",
            "_________________________________________________________________\n",
            "Layer (type)                 Output Shape              Param #   \n",
            "=================================================================\n",
            "conv2d_1 (Conv2D)            (None, 28, 28, 16)        160       \n",
            "_________________________________________________________________\n",
            "max_pooling2d_1 (MaxPooling2 (None, 14, 14, 16)        0         \n",
            "_________________________________________________________________\n",
            "dropout_1 (Dropout)          (None, 14, 14, 16)        0         \n",
            "_________________________________________________________________\n",
            "conv2d_2 (Conv2D)            (None, 14, 14, 32)        4640      \n",
            "_________________________________________________________________\n",
            "max_pooling2d_2 (MaxPooling2 (None, 7, 7, 32)          0         \n",
            "_________________________________________________________________\n",
            "dropout_2 (Dropout)          (None, 7, 7, 32)          0         \n",
            "_________________________________________________________________\n",
            "flatten_1 (Flatten)          (None, 1568)              0         \n",
            "_________________________________________________________________\n",
            "dense_1 (Dense)              (None, 32)                50208     \n",
            "_________________________________________________________________\n",
            "dropout_3 (Dropout)          (None, 32)                0         \n",
            "_________________________________________________________________\n",
            "dense_2 (Dense)              (None, 10)                330       \n",
            "=================================================================\n",
            "Total params: 55,338\n",
            "Trainable params: 55,338\n",
            "Non-trainable params: 0\n",
            "_________________________________________________________________\n",
            "WARNING:tensorflow:From /usr/local/lib/python3.6/dist-packages/tensorflow_core/python/ops/math_grad.py:1424: where (from tensorflow.python.ops.array_ops) is deprecated and will be removed in a future version.\n",
            "Instructions for updating:\n",
            "Use tf.where in 2.0, which has the same broadcast rule as np.where\n",
            "WARNING:tensorflow:From /usr/local/lib/python3.6/dist-packages/keras/backend/tensorflow_backend.py:1033: The name tf.assign_add is deprecated. Please use tf.compat.v1.assign_add instead.\n",
            "\n",
            "WARNING:tensorflow:From /usr/local/lib/python3.6/dist-packages/keras/backend/tensorflow_backend.py:1020: The name tf.assign is deprecated. Please use tf.compat.v1.assign instead.\n",
            "\n",
            "WARNING:tensorflow:From /usr/local/lib/python3.6/dist-packages/keras/backend/tensorflow_backend.py:3005: The name tf.Session is deprecated. Please use tf.compat.v1.Session instead.\n",
            "\n",
            "Train on 29399 samples, validate on 12601 samples\n",
            "Epoch 1/10\n",
            "WARNING:tensorflow:From /usr/local/lib/python3.6/dist-packages/keras/backend/tensorflow_backend.py:190: The name tf.get_default_session is deprecated. Please use tf.compat.v1.get_default_session instead.\n",
            "\n",
            "WARNING:tensorflow:From /usr/local/lib/python3.6/dist-packages/keras/backend/tensorflow_backend.py:197: The name tf.ConfigProto is deprecated. Please use tf.compat.v1.ConfigProto instead.\n",
            "\n",
            "WARNING:tensorflow:From /usr/local/lib/python3.6/dist-packages/keras/backend/tensorflow_backend.py:207: The name tf.global_variables is deprecated. Please use tf.compat.v1.global_variables instead.\n",
            "\n",
            "WARNING:tensorflow:From /usr/local/lib/python3.6/dist-packages/keras/backend/tensorflow_backend.py:216: The name tf.is_variable_initialized is deprecated. Please use tf.compat.v1.is_variable_initialized instead.\n",
            "\n",
            "WARNING:tensorflow:From /usr/local/lib/python3.6/dist-packages/keras/backend/tensorflow_backend.py:223: The name tf.variables_initializer is deprecated. Please use tf.compat.v1.variables_initializer instead.\n",
            "\n",
            "29399/29399 [==============================] - 18s 624us/step - loss: 6.9790 - categorical_accuracy: 0.3664 - val_loss: 0.7891 - val_categorical_accuracy: 0.7873\n",
            "\n",
            "Epoch 00001: val_loss improved from inf to 0.78913, saving model to MNIST1.weights.best.hdf5\n",
            "Epoch 2/10\n",
            "29399/29399 [==============================] - 3s 105us/step - loss: 0.7963 - categorical_accuracy: 0.7461 - val_loss: 0.2209 - val_categorical_accuracy: 0.9397\n",
            "\n",
            "Epoch 00002: val_loss improved from 0.78913 to 0.22086, saving model to MNIST1.weights.best.hdf5\n",
            "Epoch 3/10\n",
            "29399/29399 [==============================] - 3s 108us/step - loss: 0.4468 - categorical_accuracy: 0.8609 - val_loss: 0.1497 - val_categorical_accuracy: 0.9571\n",
            "\n",
            "Epoch 00003: val_loss improved from 0.22086 to 0.14967, saving model to MNIST1.weights.best.hdf5\n",
            "Epoch 4/10\n",
            "29399/29399 [==============================] - 3s 114us/step - loss: 0.3352 - categorical_accuracy: 0.8940 - val_loss: 0.1134 - val_categorical_accuracy: 0.9672\n",
            "\n",
            "Epoch 00004: val_loss improved from 0.14967 to 0.11337, saving model to MNIST1.weights.best.hdf5\n",
            "Epoch 5/10\n",
            "29399/29399 [==============================] - 3s 111us/step - loss: 0.2877 - categorical_accuracy: 0.9101 - val_loss: 0.0900 - val_categorical_accuracy: 0.9724\n",
            "\n",
            "Epoch 00005: val_loss improved from 0.11337 to 0.08998, saving model to MNIST1.weights.best.hdf5\n",
            "Epoch 6/10\n",
            "29399/29399 [==============================] - 3s 117us/step - loss: 0.2307 - categorical_accuracy: 0.9264 - val_loss: 0.0960 - val_categorical_accuracy: 0.9731\n",
            "\n",
            "Epoch 00006: val_loss did not improve from 0.08998\n",
            "Epoch 7/10\n",
            "29399/29399 [==============================] - 3s 110us/step - loss: 0.2074 - categorical_accuracy: 0.9336 - val_loss: 0.0738 - val_categorical_accuracy: 0.9789\n",
            "\n",
            "Epoch 00007: val_loss improved from 0.08998 to 0.07384, saving model to MNIST1.weights.best.hdf5\n",
            "Epoch 8/10\n",
            "29399/29399 [==============================] - 3s 108us/step - loss: 0.1834 - categorical_accuracy: 0.9428 - val_loss: 0.0688 - val_categorical_accuracy: 0.9791\n",
            "\n",
            "Epoch 00008: val_loss improved from 0.07384 to 0.06880, saving model to MNIST1.weights.best.hdf5\n",
            "Epoch 9/10\n",
            "29399/29399 [==============================] - 3s 109us/step - loss: 0.1722 - categorical_accuracy: 0.9462 - val_loss: 0.0669 - val_categorical_accuracy: 0.9811\n",
            "\n",
            "Epoch 00009: val_loss improved from 0.06880 to 0.06690, saving model to MNIST1.weights.best.hdf5\n",
            "Epoch 10/10\n",
            "29399/29399 [==============================] - 3s 107us/step - loss: 0.1538 - categorical_accuracy: 0.9517 - val_loss: 0.0609 - val_categorical_accuracy: 0.9818\n",
            "\n",
            "Epoch 00010: val_loss improved from 0.06690 to 0.06094, saving model to MNIST1.weights.best.hdf5\n"
          ],
          "name": "stdout"
        }
      ]
    },
    {
      "cell_type": "code",
      "metadata": {
        "id": "_VvWDvQoKbzV",
        "colab_type": "code",
        "outputId": "17398091-1726-4c1d-9f8c-3bd97f5167d6",
        "colab": {
          "base_uri": "https://localhost:8080/",
          "height": 141
        }
      },
      "source": [
        "model.load_weights('MNIST1.weights.best.hdf5')\n",
        "model.fit(X,y,epochs=1,verbose=1,callbacks=[checkpointer], shuffle= True, validation_split=0.2, batch_size= 64)"
      ],
      "execution_count": 0,
      "outputs": [
        {
          "output_type": "stream",
          "text": [
            "Train on 33600 samples, validate on 8400 samples\n",
            "Epoch 1/1\n",
            "33600/33600 [==============================] - 3s 101us/step - loss: 0.1379 - categorical_accuracy: 0.9582 - val_loss: 0.0619 - val_categorical_accuracy: 0.9840\n",
            "\n",
            "Epoch 00001: val_loss did not improve from 0.06094\n"
          ],
          "name": "stdout"
        },
        {
          "output_type": "execute_result",
          "data": {
            "text/plain": [
              "<keras.callbacks.History at 0x7fdca3ac7320>"
            ]
          },
          "metadata": {
            "tags": []
          },
          "execution_count": 14
        }
      ]
    },
    {
      "cell_type": "code",
      "metadata": {
        "id": "QFdDd__EGaWx",
        "colab_type": "code",
        "outputId": "b4a18162-935a-46cf-80af-b97f47317610",
        "colab": {
          "base_uri": "https://localhost:8080/",
          "height": 52
        }
      },
      "source": [
        "\n",
        "\n",
        "model.load_weights('MNIST1.weights.best.hdf5')\n",
        "\n",
        "model.evaluate(X,y)"
      ],
      "execution_count": 0,
      "outputs": [
        {
          "output_type": "stream",
          "text": [
            "42000/42000 [==============================] - 2s 56us/step\n"
          ],
          "name": "stdout"
        },
        {
          "output_type": "execute_result",
          "data": {
            "text/plain": [
              "[0.043725121280799306, 0.9868095238095238]"
            ]
          },
          "metadata": {
            "tags": []
          },
          "execution_count": 15
        }
      ]
    },
    {
      "cell_type": "code",
      "metadata": {
        "id": "ALZEHdUWLSGT",
        "colab_type": "code",
        "outputId": "69acd90c-c3dc-40b7-9ef8-a529dc8f6d61",
        "colab": {
          "base_uri": "https://localhost:8080/",
          "height": 69
        }
      },
      "source": [
        "X_test = test.iloc[:,:]\n",
        "X_test = np.array(X_test)\n",
        "X_test = X_test.reshape(X_test[:,0].size,28,28,1)\n",
        "\n",
        "pred = model.predict(X_test)\n",
        "print(X_test.shape)\n",
        "print(pred[0,:])"
      ],
      "execution_count": 0,
      "outputs": [
        {
          "output_type": "stream",
          "text": [
            "(28000, 28, 28, 1)\n",
            "[1.6422617e-09 8.3406661e-07 9.9999857e-01 5.4363980e-09 1.1625433e-08\n",
            " 3.5986750e-15 1.1179174e-08 4.0025787e-07 1.1349391e-07 4.4606469e-10]\n"
          ],
          "name": "stdout"
        }
      ]
    },
    {
      "cell_type": "code",
      "metadata": {
        "id": "D6B95cYbOMkb",
        "colab_type": "code",
        "outputId": "24ab2f35-8df7-46a5-bf64-8b9e98cb6691",
        "colab": {
          "base_uri": "https://localhost:8080/",
          "height": 34
        }
      },
      "source": [
        "import csv \n",
        "\n",
        "# names = np.zeros(pred[:,0].size)\n",
        "\n",
        "# names = names.reshape(pred[:,0].size,1)\n",
        "\n",
        "# for i in range (0,int(pred[:,0].size) ):\n",
        "#   names[i] = i+1\n",
        "#   c+=1\n",
        "\n",
        "\n",
        "preds = np.zeros(pred[:,0].size)\n",
        "\n",
        "preds = preds.reshape(pred[:,0].size,1)\n",
        "for i in range (0,pred[:,0].size):\n",
        "  mx = 0\n",
        "  ind = 0\n",
        "  for j in range(0 , 10):\n",
        "    if pred[i,j] > mx:\n",
        "      mx = pred[i,j]\n",
        "      ind = j\n",
        "  preds[i] = ind\n",
        "\n",
        "print(preds.shape )\n",
        "#print(preds)\n",
        "def save(names, preds):\n",
        "  c1= np.append(np.array(['ImageId']), names)\n",
        "  c1= c1.reshape(len(c1),1)\n",
        "  c2= np.append(np.array(['Label']), preds)\n",
        "  c2= c2.reshape(len(c2),1)\n",
        "  final = np.append(c1,c2, axis=1)\n",
        "  with open(\"MNIST0.csv\", \"w\") as my_csv:\n",
        "        csvWriter = csv.writer(my_csv, delimiter=',',lineterminator='\\r')\n",
        "        csvWriter.writerows(final)\n",
        "\n",
        "\n",
        "def save_results(names,preds):\n",
        "    headRow=['ImageId','Label']\n",
        "    headRow = np.expand_dims(headRow, axis=0)\n",
        "    # headRow = np.transpose(headRow)\n",
        "    headRow=np.array(headRow)\n",
        "    preds=np.array(preds)\n",
        "    names=np.array(names)\n",
        "    #print('shape 1 corrct  :',np.shape(preds),'wrong shape : ',np.shape(headRow))\n",
        "    final=np.concatenate((names,preds),axis=1)\n",
        "    # print('final list shape :' ,np.shape(finlList))\n",
        "    final=np.append(headRow,final,axis=0)\n",
        "    with open(\"MNIST0.csv\", \"w\") as my_csv:\n",
        "        csvWriter = csv.writer(my_csv, delimiter=',',lineterminator='\\r')\n",
        "        csvWriter.writerows(final)\n",
        "\n",
        "with open(\"MNIST2.csv\", \"w\") as my_csv:\n",
        "  writer = csv.writer(my_csv, delimiter=',',lineterminator='\\r')\n",
        "  writer.writerow(['ImageId','Label'])\n",
        "  for i in range(0,28000):\n",
        "    writer.writerow([i+1,int(preds[i])])\n",
        "\n",
        "#save(names,preds)"
      ],
      "execution_count": 0,
      "outputs": [
        {
          "output_type": "stream",
          "text": [
            "(28000, 1)\n"
          ],
          "name": "stdout"
        }
      ]
    },
    {
      "cell_type": "code",
      "metadata": {
        "id": "l_7ECF3uZbyJ",
        "colab_type": "code",
        "colab": {
          "base_uri": "https://localhost:8080/",
          "height": 69
        },
        "outputId": "c3785adc-e909-4430-93e0-d770b2c18930"
      },
      "source": [
        "!git config --global user.email \"mariobahaa59s@gmail.com\"\n",
        "!git config --global user.name \"mario bahaa\"\n",
        " \n",
        "\n",
        "!git init \n",
        "!git add .\n",
        "!git commit -m\"MNIST1 to recogize hand written digits\"\n"
      ],
      "execution_count": 36,
      "outputs": [
        {
          "output_type": "stream",
          "text": [
            "Reinitialized existing Git repository in /content/.git/\n",
            "On branch master\n",
            "nothing to commit, working tree clean\n"
          ],
          "name": "stdout"
        }
      ]
    },
    {
      "cell_type": "code",
      "metadata": {
        "id": "klAp7dCpZ80c",
        "colab_type": "code",
        "colab": {
          "base_uri": "https://localhost:8080/",
          "height": 52
        },
        "outputId": "58e483e3-2a62-475b-98a4-fa86e497c77f"
      },
      "source": [
        "#!git push --set-upstream https://github.com/Mariobahaa/Digit-Recognizer.git master\n",
        "!git remote add origin https://github.com/Mariobahaa/Digit-Recognizer.git\n",
        "!git push -u origin master"
      ],
      "execution_count": 35,
      "outputs": [
        {
          "output_type": "stream",
          "text": [
            "fatal: remote origin already exists.\n",
            "fatal: could not read Username for 'https://github.com': No such device or address\n"
          ],
          "name": "stdout"
        }
      ]
    }
  ]
}